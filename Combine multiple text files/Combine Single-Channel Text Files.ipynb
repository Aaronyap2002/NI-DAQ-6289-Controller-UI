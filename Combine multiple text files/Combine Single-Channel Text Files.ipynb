{
 "cells": [
  {
   "cell_type": "code",
   "execution_count": 3,
   "metadata": {},
   "outputs": [
    {
     "name": "stdout",
     "output_type": "stream",
     "text": [
      "Combined data saved to combined_channels.txt\n",
      "Shape of combined data: (1000, 4)\n"
     ]
    }
   ],
   "source": [
    "import numpy as np\n",
    "\n",
    "def combine_channel_files(file_paths, output_file, num_channels):\n",
    "    # Read data from each file\n",
    "    channel_data = []\n",
    "    for file_path in file_paths:\n",
    "        with open(file_path, 'r') as f:\n",
    "            data = np.array([float(line.strip()) for line in f if line.strip()])\n",
    "            channel_data.append(data)\n",
    "    \n",
    "    # Ensure all channels have the same number of samples\n",
    "    min_samples = min(len(data) for data in channel_data)\n",
    "    channel_data = [data[:min_samples] for data in channel_data]\n",
    "    \n",
    "    # Pad with zeros if we have fewer channels than specified\n",
    "    while len(channel_data) < num_channels:\n",
    "        channel_data.append(np.zeros(min_samples))\n",
    "    \n",
    "    # Combine data into a 2D array\n",
    "    combined_data = np.column_stack(channel_data)\n",
    "    \n",
    "    # Save combined data to a new text file\n",
    "    with open(output_file, 'w') as f:\n",
    "        for row in combined_data:\n",
    "            f.write('\\t'.join(f'{val:.6f}' for val in row) + '\\n')\n",
    "    \n",
    "    print(f\"Combined data saved to {output_file}\")\n",
    "    print(f\"Shape of combined data: {combined_data.shape}\")\n",
    "\n",
    "# Usage\n",
    "file_paths = [\n",
    "    'Before Combine Single-Channel Text File 0.txt',\n",
    "    'Before Combine Single-Channel Text File 1.txt',\n",
    "    'Before Combine Single-Channel Text File 2.txt',\n",
    "    'Before Combine Single-Channel Text File 3.txt'\n",
    "]\n",
    "output_file = 'After Combine Single-Channel Text File.txt'\n",
    "NUM_CHANNELS = 4\n",
    "\n",
    "combine_channel_files(file_paths, output_file, NUM_CHANNELS)"
   ]
  }
 ],
 "metadata": {
  "kernelspec": {
   "display_name": "Python 3",
   "language": "python",
   "name": "python3"
  },
  "language_info": {
   "codemirror_mode": {
    "name": "ipython",
    "version": 3
   },
   "file_extension": ".py",
   "mimetype": "text/x-python",
   "name": "python",
   "nbconvert_exporter": "python",
   "pygments_lexer": "ipython3",
   "version": "3.12.4"
  }
 },
 "nbformat": 4,
 "nbformat_minor": 2
}
